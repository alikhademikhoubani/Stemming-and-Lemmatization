{
 "cells": [
  {
   "cell_type": "code",
   "execution_count": 2,
   "id": "31edd426",
   "metadata": {},
   "outputs": [],
   "source": [
    "import nltk\n",
    "import spacy\n",
    "from nltk.stem import PorterStemmer"
   ]
  },
  {
   "cell_type": "code",
   "execution_count": 5,
   "id": "1bb4dbe0",
   "metadata": {},
   "outputs": [],
   "source": [
    "stemmer=PorterStemmer()"
   ]
  },
  {
   "cell_type": "code",
   "execution_count": 6,
   "id": "e1858810",
   "metadata": {},
   "outputs": [
    {
     "name": "stdout",
     "output_type": "stream",
     "text": [
      "eating  |  eat\n",
      "eats  |  eat\n",
      "eat  |  eat\n",
      "ate  |  ate\n",
      "adjustable  |  adjust\n",
      "rafting  |  raft\n",
      "ability  |  abil\n",
      "meeting  |  meet\n"
     ]
    }
   ],
   "source": [
    "words=['eating','eats','eat','ate','adjustable','rafting','ability','meeting']\n",
    "for word in words:\n",
    "    print(word,' | ',stemmer.stem(word))"
   ]
  },
  {
   "cell_type": "code",
   "execution_count": 9,
   "id": "1693d2f8",
   "metadata": {},
   "outputs": [
    {
     "name": "stdout",
     "output_type": "stream",
     "text": [
      "eating  |  eat  |  9837207709914848172\n",
      "eats  |  eat  |  9837207709914848172\n",
      "eat  |  eat  |  9837207709914848172\n",
      "ate  |  eat  |  9837207709914848172\n",
      "adjusable  |  adjusable  |  3489123879389341003\n",
      "rafting  |  raft  |  7154368781129989833\n",
      "ability  |  ability  |  11565809527369121409\n",
      "meeting  |  meeting  |  14798207169164081740\n",
      "better  |  well  |  4525988469032889948\n"
     ]
    }
   ],
   "source": [
    "nlp=spacy.load('en_core_web_sm')\n",
    "doc=nlp('eating eats eat ate adjusable rafting ability meeting better')\n",
    "for token in doc:\n",
    "    print(token,' | ',token.lemma_, ' | ',token.lemma)"
   ]
  },
  {
   "cell_type": "code",
   "execution_count": 11,
   "id": "597f24f7",
   "metadata": {},
   "outputs": [
    {
     "name": "stdout",
     "output_type": "stream",
     "text": [
      "Mando  |  Mando  |  7837215228004622142\n",
      "talked  |  talk  |  13939146775466599234\n",
      "for  |  for  |  16037325823156266367\n",
      "3  |  3  |  602994839685422785\n",
      "hours  |  hour  |  9748623380567160636\n",
      "although  |  although  |  343236316598008647\n",
      "takling  |  takling  |  15863176961174665276\n",
      "is  |  be  |  10382539506755952630\n",
      "n't  |  not  |  447765159362469301\n",
      "his  |  his  |  2661093235354845946\n",
      "thing  |  thing  |  2473243759842082748\n",
      "he  |  he  |  1655312771067108281\n",
      "become  |  become  |  12558846041070486771\n",
      "talkative  |  talkative  |  13364764166055324990\n"
     ]
    }
   ],
   "source": [
    "doc=nlp(\"Mando talked for 3 hours although takling isn't his thing he become talkative\")\n",
    "for token in doc:\n",
    "    print(token,' | ',token.lemma_,' | ',token.lemma)"
   ]
  },
  {
   "cell_type": "code",
   "execution_count": 13,
   "id": "253e5952",
   "metadata": {},
   "outputs": [
    {
     "data": {
      "text/plain": [
       "['tok2vec', 'tagger', 'parser', 'attribute_ruler', 'lemmatizer', 'ner']"
      ]
     },
     "execution_count": 13,
     "metadata": {},
     "output_type": "execute_result"
    }
   ],
   "source": [
    "nlp.pipe_names"
   ]
  },
  {
   "cell_type": "code",
   "execution_count": 14,
   "id": "704296a0",
   "metadata": {},
   "outputs": [
    {
     "name": "stdout",
     "output_type": "stream",
     "text": [
      "Bro  |  bro  |  3493238095688267532\n",
      ",  |  ,  |  2593208677638477497\n",
      "you  |  you  |  7624161793554793053\n",
      "wanna  |  wanna  |  13000462173222681081\n",
      "go  |  go  |  8004577259940138793\n",
      "?  |  ?  |  8205403955989537350\n",
      "Brah  |  Brah  |  5645766505577852541\n",
      ",  |  ,  |  2593208677638477497\n",
      "dont't  |  dont't  |  5409226763769975961\n",
      "say  |  say  |  8685289367999165211\n",
      "no  |  no  |  13055779130471031426\n",
      "!  |  !  |  17494803046312582752\n",
      "I  |  I  |  4690420944186131903\n",
      "am  |  be  |  10382539506755952630\n",
      "exhausted  |  exhaust  |  5738807065439247694\n"
     ]
    }
   ],
   "source": [
    "doc=nlp(\"Bro, you wanna go? Brah, dont't say no! I am exhausted\")\n",
    "for token in doc:\n",
    "    print(token,' | ',token.lemma_,' | ',token.lemma)"
   ]
  },
  {
   "cell_type": "code",
   "execution_count": 15,
   "id": "419265f0",
   "metadata": {},
   "outputs": [
    {
     "name": "stdout",
     "output_type": "stream",
     "text": [
      "Bro  |  Brother  |  4347558510128575363\n",
      ",  |  ,  |  2593208677638477497\n",
      "you  |  you  |  7624161793554793053\n",
      "wanna  |  wanna  |  13000462173222681081\n",
      "go  |  go  |  8004577259940138793\n",
      "?  |  ?  |  8205403955989537350\n",
      "Brah  |  Brother  |  4347558510128575363\n",
      ",  |  ,  |  2593208677638477497\n",
      "do  |  do  |  2158845516055552166\n",
      "n't  |  not  |  447765159362469301\n",
      "say  |  say  |  8685289367999165211\n",
      "no  |  no  |  13055779130471031426\n",
      "!  |  !  |  17494803046312582752\n",
      "I  |  I  |  4690420944186131903\n",
      "am  |  be  |  10382539506755952630\n",
      "exhausted  |  exhaust  |  5738807065439247694\n"
     ]
    }
   ],
   "source": [
    "ar=nlp.get_pipe('attribute_ruler')\n",
    "ar.add([[{'TEXT':'Bro'}],[{'TEXT':'Brah'}]],{'LEMMA':'Brother'})\n",
    "doc=nlp(\"Bro, you wanna go? Brah, don't say no! I am exhausted\")\n",
    "for token in doc:\n",
    "    print(token,' | ',token.lemma_,' | ',token.lemma)"
   ]
  },
  {
   "cell_type": "code",
   "execution_count": 16,
   "id": "3ffa5c61",
   "metadata": {},
   "outputs": [
    {
     "data": {
      "text/plain": [
       "Bro"
      ]
     },
     "execution_count": 16,
     "metadata": {},
     "output_type": "execute_result"
    }
   ],
   "source": [
    "doc[0]"
   ]
  },
  {
   "cell_type": "code",
   "execution_count": 17,
   "id": "8950b076",
   "metadata": {},
   "outputs": [
    {
     "data": {
      "text/plain": [
       "'Brother'"
      ]
     },
     "execution_count": 17,
     "metadata": {},
     "output_type": "execute_result"
    }
   ],
   "source": [
    "doc[0].lemma_"
   ]
  }
 ],
 "metadata": {
  "kernelspec": {
   "display_name": "Python 3 (ipykernel)",
   "language": "python",
   "name": "python3"
  },
  "language_info": {
   "codemirror_mode": {
    "name": "ipython",
    "version": 3
   },
   "file_extension": ".py",
   "mimetype": "text/x-python",
   "name": "python",
   "nbconvert_exporter": "python",
   "pygments_lexer": "ipython3",
   "version": "3.10.5"
  }
 },
 "nbformat": 4,
 "nbformat_minor": 5
}
